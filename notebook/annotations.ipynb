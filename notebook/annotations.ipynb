{
 "cells": [
  {
   "cell_type": "code",
   "execution_count": 65,
   "id": "3eb2d047",
   "metadata": {},
   "outputs": [],
   "source": [
    "import pandas as pd"
   ]
  },
  {
   "cell_type": "code",
   "execution_count": 66,
   "id": "882e8987",
   "metadata": {},
   "outputs": [],
   "source": [
    "df = pd.read_excel('../data/review/Alfa - 300.xlsx')"
   ]
  },
  {
   "cell_type": "code",
   "execution_count": 67,
   "id": "711b4512",
   "metadata": {},
   "outputs": [],
   "source": [
    "df['equal'] = df['Jose_Angelo'] - df['Jose_Angelo2']"
   ]
  },
  {
   "cell_type": "code",
   "execution_count": 68,
   "id": "8fd3f679",
   "metadata": {},
   "outputs": [
    {
     "data": {
      "text/plain": [
       "equal\n",
       "0.0    286\n",
       "Name: count, dtype: int64"
      ]
     },
     "execution_count": 68,
     "metadata": {},
     "output_type": "execute_result"
    }
   ],
   "source": [
    "df['equal'].value_counts()"
   ]
  },
  {
   "cell_type": "code",
   "execution_count": 69,
   "id": "b2a116d1",
   "metadata": {},
   "outputs": [
    {
     "data": {
      "text/html": [
       "<div>\n",
       "<style scoped>\n",
       "    .dataframe tbody tr th:only-of-type {\n",
       "        vertical-align: middle;\n",
       "    }\n",
       "\n",
       "    .dataframe tbody tr th {\n",
       "        vertical-align: top;\n",
       "    }\n",
       "\n",
       "    .dataframe thead th {\n",
       "        text-align: right;\n",
       "    }\n",
       "</style>\n",
       "<table border=\"1\" class=\"dataframe\">\n",
       "  <thead>\n",
       "    <tr style=\"text-align: right;\">\n",
       "      <th></th>\n",
       "      <th>index</th>\n",
       "      <th>text</th>\n",
       "      <th>Jose_Angelo</th>\n",
       "      <th>Modelo</th>\n",
       "      <th>Jose_Angelo2</th>\n",
       "      <th>Modelo2</th>\n",
       "      <th>equal</th>\n",
       "    </tr>\n",
       "  </thead>\n",
       "  <tbody>\n",
       "    <tr>\n",
       "      <th>0</th>\n",
       "      <td>725</td>\n",
       "      <td>tratamiento económico</td>\n",
       "      <td>7</td>\n",
       "      <td>7</td>\n",
       "      <td>7.0</td>\n",
       "      <td>7.0</td>\n",
       "      <td>0.0</td>\n",
       "    </tr>\n",
       "    <tr>\n",
       "      <th>1</th>\n",
       "      <td>813</td>\n",
       "      <td>aprendizaje de nuevas habilidades</td>\n",
       "      <td>4</td>\n",
       "      <td>10</td>\n",
       "      <td>4.0</td>\n",
       "      <td>NaN</td>\n",
       "      <td>0.0</td>\n",
       "    </tr>\n",
       "    <tr>\n",
       "      <th>2</th>\n",
       "      <td>1467</td>\n",
       "      <td>alivio del dolor postural</td>\n",
       "      <td>4</td>\n",
       "      <td>4</td>\n",
       "      <td>4.0</td>\n",
       "      <td>4.0</td>\n",
       "      <td>0.0</td>\n",
       "    </tr>\n",
       "    <tr>\n",
       "      <th>3</th>\n",
       "      <td>1470</td>\n",
       "      <td>resultados excelentes</td>\n",
       "      <td>4</td>\n",
       "      <td>4</td>\n",
       "      <td>4.0</td>\n",
       "      <td>4.0</td>\n",
       "      <td>0.0</td>\n",
       "    </tr>\n",
       "    <tr>\n",
       "      <th>4</th>\n",
       "      <td>52</td>\n",
       "      <td>curación del mal de ojo</td>\n",
       "      <td>1</td>\n",
       "      <td>1</td>\n",
       "      <td>1.0</td>\n",
       "      <td>1.0</td>\n",
       "      <td>0.0</td>\n",
       "    </tr>\n",
       "    <tr>\n",
       "      <th>...</th>\n",
       "      <td>...</td>\n",
       "      <td>...</td>\n",
       "      <td>...</td>\n",
       "      <td>...</td>\n",
       "      <td>...</td>\n",
       "      <td>...</td>\n",
       "      <td>...</td>\n",
       "    </tr>\n",
       "    <tr>\n",
       "      <th>295</th>\n",
       "      <td>197</td>\n",
       "      <td>relajación del cuerpo</td>\n",
       "      <td>4</td>\n",
       "      <td>4</td>\n",
       "      <td>4.0</td>\n",
       "      <td>4.0</td>\n",
       "      <td>0.0</td>\n",
       "    </tr>\n",
       "    <tr>\n",
       "      <th>296</th>\n",
       "      <td>1431</td>\n",
       "      <td>similitud con curandería</td>\n",
       "      <td>1</td>\n",
       "      <td>1</td>\n",
       "      <td>1.0</td>\n",
       "      <td>1.0</td>\n",
       "      <td>0.0</td>\n",
       "    </tr>\n",
       "    <tr>\n",
       "      <th>297</th>\n",
       "      <td>82</td>\n",
       "      <td>costo bajo</td>\n",
       "      <td>7</td>\n",
       "      <td>7</td>\n",
       "      <td>7.0</td>\n",
       "      <td>7.0</td>\n",
       "      <td>0.0</td>\n",
       "    </tr>\n",
       "    <tr>\n",
       "      <th>298</th>\n",
       "      <td>1421</td>\n",
       "      <td>credibilidad del personal</td>\n",
       "      <td>8</td>\n",
       "      <td>8</td>\n",
       "      <td>8.0</td>\n",
       "      <td>8.0</td>\n",
       "      <td>0.0</td>\n",
       "    </tr>\n",
       "    <tr>\n",
       "      <th>299</th>\n",
       "      <td>359</td>\n",
       "      <td>naturalidad</td>\n",
       "      <td>3</td>\n",
       "      <td>3</td>\n",
       "      <td>3.0</td>\n",
       "      <td>3.0</td>\n",
       "      <td>0.0</td>\n",
       "    </tr>\n",
       "  </tbody>\n",
       "</table>\n",
       "<p>300 rows × 7 columns</p>\n",
       "</div>"
      ],
      "text/plain": [
       "     index                               text  Jose_Angelo  Modelo  \\\n",
       "0      725              tratamiento económico            7       7   \n",
       "1      813  aprendizaje de nuevas habilidades            4      10   \n",
       "2     1467          alivio del dolor postural            4       4   \n",
       "3     1470              resultados excelentes            4       4   \n",
       "4       52            curación del mal de ojo            1       1   \n",
       "..     ...                                ...          ...     ...   \n",
       "295    197              relajación del cuerpo            4       4   \n",
       "296   1431           similitud con curandería            1       1   \n",
       "297     82                         costo bajo            7       7   \n",
       "298   1421          credibilidad del personal            8       8   \n",
       "299    359                        naturalidad            3       3   \n",
       "\n",
       "     Jose_Angelo2  Modelo2  equal  \n",
       "0             7.0      7.0    0.0  \n",
       "1             4.0      NaN    0.0  \n",
       "2             4.0      4.0    0.0  \n",
       "3             4.0      4.0    0.0  \n",
       "4             1.0      1.0    0.0  \n",
       "..            ...      ...    ...  \n",
       "295           4.0      4.0    0.0  \n",
       "296           1.0      1.0    0.0  \n",
       "297           7.0      7.0    0.0  \n",
       "298           8.0      8.0    0.0  \n",
       "299           3.0      3.0    0.0  \n",
       "\n",
       "[300 rows x 7 columns]"
      ]
     },
     "execution_count": 69,
     "metadata": {},
     "output_type": "execute_result"
    }
   ],
   "source": [
    "df"
   ]
  },
  {
   "cell_type": "code",
   "execution_count": 70,
   "id": "ef1a0a1b",
   "metadata": {},
   "outputs": [
    {
     "data": {
      "text/plain": [
       "Jose_Angelo\n",
       "4     140\n",
       "1      34\n",
       "5      29\n",
       "8      22\n",
       "7      16\n",
       "6      14\n",
       "10     14\n",
       "3      12\n",
       "9      11\n",
       "2       8\n",
       "Name: count, dtype: int64"
      ]
     },
     "execution_count": 70,
     "metadata": {},
     "output_type": "execute_result"
    }
   ],
   "source": [
    "df['Jose_Angelo'].value_counts()"
   ]
  },
  {
   "cell_type": "code",
   "execution_count": 71,
   "id": "ac56e056",
   "metadata": {},
   "outputs": [
    {
     "data": {
      "text/plain": [
       "Modelo\n",
       "4     121\n",
       "1      48\n",
       "10     37\n",
       "5      21\n",
       "3      17\n",
       "7      15\n",
       "6      14\n",
       "9      10\n",
       "2      10\n",
       "8       7\n",
       "Name: count, dtype: int64"
      ]
     },
     "execution_count": 71,
     "metadata": {},
     "output_type": "execute_result"
    }
   ],
   "source": [
    "df['Modelo'].value_counts()"
   ]
  },
  {
   "cell_type": "code",
   "execution_count": 72,
   "id": "0144cf1a",
   "metadata": {},
   "outputs": [
    {
     "data": {
      "image/png": "[encoded data removed]",
      "text/plain": [
       "<Figure size 1000x1000 with 2 Axes>"
      ]
     },
     "metadata": {},
     "output_type": "display_data"
    },
    {
     "name": "stdout",
     "output_type": "stream",
     "text": [
      "Macro F1 Score: 0.7649\n",
      "Krippendorff's Alpha: 0.6138\n"
     ]
    }
   ],
   "source": [
    "import pandas as pd\n",
    "import seaborn as sns\n",
    "import matplotlib.pyplot as plt\n",
    "from sklearn.metrics import confusion_matrix, f1_score\n",
    "import krippendorff\n",
    "\n",
    "# Assume df has two columns: 'Jose_Angelo' (true labels) and 'Modelo' (predicted labels)\n",
    "\n",
    "# Get sorted unique labels across both columns\n",
    "labels = sorted(set(df['Jose_Angelo'].unique()) | set(df['Modelo'].unique()))\n",
    "\n",
    "# Compute the confusion matrix\n",
    "conf_matrix = confusion_matrix(df['Jose_Angelo'], df['Modelo'], labels=labels)\n",
    "\n",
    "# Normalize the confusion matrix (row-wise)\n",
    "conf_matrix_normalized = conf_matrix.astype('float') / conf_matrix.sum(axis=1, keepdims=True)\n",
    "\n",
    "# Plot the normalized confusion matrix\n",
    "plt.figure(figsize=(10, 10))\n",
    "sns.heatmap(conf_matrix_normalized, annot=True, fmt='.2f', cmap='Blues',\n",
    "            xticklabels=labels, yticklabels=labels)\n",
    "plt.xlabel('Predicted Labels')\n",
    "plt.ylabel('True Labels')\n",
    "plt.title('Normalized Confusion Matrix Heatmap')\n",
    "plt.show()\n",
    "\n",
    "# Compute macro F1 score\n",
    "f1 = f1_score(df['Jose_Angelo'], df['Modelo'], labels=labels, average='macro')\n",
    "print(f\"Macro F1 Score: {f1:.4f}\")\n",
    "\n",
    "# Prepare data for Krippendorff's alpha: a list of raters per item\n",
    "# Needs to be shaped as [rater1, rater2, ...] x items (i.e. rows are raters, columns are items)\n",
    "alpha_data = [df['Jose_Angelo'].tolist(), df['Modelo'].tolist()]\n",
    "alpha = krippendorff.alpha(reliability_data=alpha_data)\n",
    "\n",
    "print(f\"Krippendorff's Alpha: {alpha:.4f}\")\n"
   ]
  },
  {
   "cell_type": "code",
   "execution_count": 73,
   "id": "59c51287",
   "metadata": {},
   "outputs": [
    {
     "name": "stdout",
     "output_type": "stream",
     "text": [
      "Classification Report:\n",
      "\n",
      "              precision    recall  f1-score   support\n",
      "\n",
      "           1       0.71      1.00      0.83        34\n",
      "           2       0.80      1.00      0.89         8\n",
      "           3       0.71      1.00      0.83        12\n",
      "           4       0.92      0.79      0.85       140\n",
      "           5       1.00      0.72      0.84        29\n",
      "           6       0.93      0.93      0.93        14\n",
      "           7       0.80      0.75      0.77        16\n",
      "           8       1.00      0.32      0.48        22\n",
      "           9       1.00      0.91      0.95        11\n",
      "          10       0.19      0.50      0.27        14\n",
      "\n",
      "    accuracy                           0.78       300\n",
      "   macro avg       0.80      0.79      0.76       300\n",
      "weighted avg       0.86      0.78      0.80       300\n",
      "\n"
     ]
    }
   ],
   "source": [
    "from sklearn.metrics import classification_report\n",
    "\n",
    "# Print the full classification report\n",
    "report = classification_report(df['Jose_Angelo'], df['Modelo'], labels=labels)\n",
    "print(\"Classification Report:\\n\")\n",
    "print(report)\n"
   ]
  },
  {
   "cell_type": "code",
   "execution_count": 74,
   "id": "aa2abf42",
   "metadata": {},
   "outputs": [
    {
     "data": {
      "text/plain": [
       "0.12333333333333334"
      ]
     },
     "execution_count": 74,
     "metadata": {},
     "output_type": "execute_result"
    }
   ],
   "source": [
    "len(df.query('Modelo == 10')) / len(df)"
   ]
  },
  {
   "cell_type": "code",
   "execution_count": null,
   "id": "04554535",
   "metadata": {},
   "outputs": [],
   "source": []
  },
  {
   "cell_type": "code",
   "execution_count": 75,
   "id": "8b49e059",
   "metadata": {},
   "outputs": [],
   "source": [
    "import csv\n",
    "class_v2 = pd.read_csv('../data/classified_micro-reasons_1104_v1.csv', sep='|', quoting=csv.QUOTE_NONNUMERIC)"
   ]
  },
  {
   "cell_type": "code",
   "execution_count": 76,
   "id": "1123de44",
   "metadata": {},
   "outputs": [
    {
     "data": {
      "text/html": [
       "<div>\n",
       "<style scoped>\n",
       "    .dataframe tbody tr th:only-of-type {\n",
       "        vertical-align: middle;\n",
       "    }\n",
       "\n",
       "    .dataframe tbody tr th {\n",
       "        vertical-align: top;\n",
       "    }\n",
       "\n",
       "    .dataframe thead th {\n",
       "        text-align: right;\n",
       "    }\n",
       "</style>\n",
       "<table border=\"1\" class=\"dataframe\">\n",
       "  <thead>\n",
       "    <tr style=\"text-align: right;\">\n",
       "      <th></th>\n",
       "      <th>index</th>\n",
       "      <th>text</th>\n",
       "      <th>categoria</th>\n",
       "      <th>categoria_</th>\n",
       "    </tr>\n",
       "  </thead>\n",
       "  <tbody>\n",
       "    <tr>\n",
       "      <th>0</th>\n",
       "      <td>0.0</td>\n",
       "      <td>eficacia percibida</td>\n",
       "      <td>[4]</td>\n",
       "      <td>['Beneficios personales y efectividad clínica']</td>\n",
       "    </tr>\n",
       "    <tr>\n",
       "      <th>1</th>\n",
       "      <td>1.0</td>\n",
       "      <td>experiencia personal positiva</td>\n",
       "      <td>[5]</td>\n",
       "      <td>['Testimonios y experiencias personales']</td>\n",
       "    </tr>\n",
       "    <tr>\n",
       "      <th>2</th>\n",
       "      <td>2.0</td>\n",
       "      <td>testimonio personal</td>\n",
       "      <td>[5]</td>\n",
       "      <td>['Testimonios y experiencias personales']</td>\n",
       "    </tr>\n",
       "    <tr>\n",
       "      <th>3</th>\n",
       "      <td>3.0</td>\n",
       "      <td>relajación</td>\n",
       "      <td>[4]</td>\n",
       "      <td>['Beneficios personales y efectividad clínica']</td>\n",
       "    </tr>\n",
       "    <tr>\n",
       "      <th>4</th>\n",
       "      <td>4.0</td>\n",
       "      <td>alivio del dolor</td>\n",
       "      <td>[4]</td>\n",
       "      <td>['Beneficios personales y efectividad clínica']</td>\n",
       "    </tr>\n",
       "    <tr>\n",
       "      <th>...</th>\n",
       "      <td>...</td>\n",
       "      <td>...</td>\n",
       "      <td>...</td>\n",
       "      <td>...</td>\n",
       "    </tr>\n",
       "    <tr>\n",
       "      <th>1512</th>\n",
       "      <td>1513.0</td>\n",
       "      <td>recomendación familiar</td>\n",
       "      <td>[5]</td>\n",
       "      <td>['Testimonios y experiencias personales']</td>\n",
       "    </tr>\n",
       "    <tr>\n",
       "      <th>1513</th>\n",
       "      <td>1514.0</td>\n",
       "      <td>reducción de cansancio</td>\n",
       "      <td>[4]</td>\n",
       "      <td>['Beneficios personales y efectividad clínica']</td>\n",
       "    </tr>\n",
       "    <tr>\n",
       "      <th>1514</th>\n",
       "      <td>1515.0</td>\n",
       "      <td>mejora estado físico</td>\n",
       "      <td>[4]</td>\n",
       "      <td>['Beneficios personales y efectividad clínica']</td>\n",
       "    </tr>\n",
       "    <tr>\n",
       "      <th>1515</th>\n",
       "      <td>1516.0</td>\n",
       "      <td>mejora estado de ánimo</td>\n",
       "      <td>[4]</td>\n",
       "      <td>['Beneficios personales y efectividad clínica']</td>\n",
       "    </tr>\n",
       "    <tr>\n",
       "      <th>1516</th>\n",
       "      <td>1517.0</td>\n",
       "      <td>rehabilitación física</td>\n",
       "      <td>[4]</td>\n",
       "      <td>['Beneficios personales y efectividad clínica']</td>\n",
       "    </tr>\n",
       "  </tbody>\n",
       "</table>\n",
       "<p>1517 rows × 4 columns</p>\n",
       "</div>"
      ],
      "text/plain": [
       "       index                           text categoria  \\\n",
       "0        0.0             eficacia percibida       [4]   \n",
       "1        1.0  experiencia personal positiva       [5]   \n",
       "2        2.0            testimonio personal       [5]   \n",
       "3        3.0                     relajación       [4]   \n",
       "4        4.0               alivio del dolor       [4]   \n",
       "...      ...                            ...       ...   \n",
       "1512  1513.0         recomendación familiar       [5]   \n",
       "1513  1514.0         reducción de cansancio       [4]   \n",
       "1514  1515.0           mejora estado físico       [4]   \n",
       "1515  1516.0         mejora estado de ánimo       [4]   \n",
       "1516  1517.0          rehabilitación física       [4]   \n",
       "\n",
       "                                           categoria_  \n",
       "0     ['Beneficios personales y efectividad clínica']  \n",
       "1           ['Testimonios y experiencias personales']  \n",
       "2           ['Testimonios y experiencias personales']  \n",
       "3     ['Beneficios personales y efectividad clínica']  \n",
       "4     ['Beneficios personales y efectividad clínica']  \n",
       "...                                               ...  \n",
       "1512        ['Testimonios y experiencias personales']  \n",
       "1513  ['Beneficios personales y efectividad clínica']  \n",
       "1514  ['Beneficios personales y efectividad clínica']  \n",
       "1515  ['Beneficios personales y efectividad clínica']  \n",
       "1516  ['Beneficios personales y efectividad clínica']  \n",
       "\n",
       "[1517 rows x 4 columns]"
      ]
     },
     "execution_count": 76,
     "metadata": {},
     "output_type": "execute_result"
    }
   ],
   "source": [
    "class_v2"
   ]
  },
  {
   "cell_type": "code",
   "execution_count": 77,
   "id": "b779d252",
   "metadata": {},
   "outputs": [
    {
     "data": {
      "text/html": [
       "<div>\n",
       "<style scoped>\n",
       "    .dataframe tbody tr th:only-of-type {\n",
       "        vertical-align: middle;\n",
       "    }\n",
       "\n",
       "    .dataframe tbody tr th {\n",
       "        vertical-align: top;\n",
       "    }\n",
       "\n",
       "    .dataframe thead th {\n",
       "        text-align: right;\n",
       "    }\n",
       "</style>\n",
       "<table border=\"1\" class=\"dataframe\">\n",
       "  <thead>\n",
       "    <tr style=\"text-align: right;\">\n",
       "      <th></th>\n",
       "      <th>index</th>\n",
       "      <th>text</th>\n",
       "      <th>categoria</th>\n",
       "      <th>categoria_</th>\n",
       "      <th>Modelo</th>\n",
       "      <th>Jose_Angelo</th>\n",
       "      <th>Modelo_v2</th>\n",
       "    </tr>\n",
       "  </thead>\n",
       "  <tbody>\n",
       "    <tr>\n",
       "      <th>0</th>\n",
       "      <td>15.0</td>\n",
       "      <td>accesibilidad</td>\n",
       "      <td>[7]</td>\n",
       "      <td>['Accesibilidad y comodidad']</td>\n",
       "      <td>7</td>\n",
       "      <td>7</td>\n",
       "      <td>7</td>\n",
       "    </tr>\n",
       "    <tr>\n",
       "      <th>1</th>\n",
       "      <td>23.0</td>\n",
       "      <td>buenos resultados</td>\n",
       "      <td>[4]</td>\n",
       "      <td>['Beneficios personales y efectividad clínica']</td>\n",
       "      <td>4</td>\n",
       "      <td>4</td>\n",
       "      <td>4</td>\n",
       "    </tr>\n",
       "    <tr>\n",
       "      <th>2</th>\n",
       "      <td>29.0</td>\n",
       "      <td>fundamentos anatómicos</td>\n",
       "      <td>[8]</td>\n",
       "      <td>['Credenciales científicas y profesionales']</td>\n",
       "      <td>8</td>\n",
       "      <td>8</td>\n",
       "      <td>8</td>\n",
       "    </tr>\n",
       "    <tr>\n",
       "      <th>3</th>\n",
       "      <td>30.0</td>\n",
       "      <td>resultados positivos</td>\n",
       "      <td>[4]</td>\n",
       "      <td>['Beneficios personales y efectividad clínica']</td>\n",
       "      <td>4</td>\n",
       "      <td>4</td>\n",
       "      <td>4</td>\n",
       "    </tr>\n",
       "    <tr>\n",
       "      <th>4</th>\n",
       "      <td>32.0</td>\n",
       "      <td>experiencia previa positiva</td>\n",
       "      <td>[5]</td>\n",
       "      <td>['Testimonios y experiencias personales']</td>\n",
       "      <td>5</td>\n",
       "      <td>5</td>\n",
       "      <td>5</td>\n",
       "    </tr>\n",
       "    <tr>\n",
       "      <th>...</th>\n",
       "      <td>...</td>\n",
       "      <td>...</td>\n",
       "      <td>...</td>\n",
       "      <td>...</td>\n",
       "      <td>...</td>\n",
       "      <td>...</td>\n",
       "      <td>...</td>\n",
       "    </tr>\n",
       "    <tr>\n",
       "      <th>295</th>\n",
       "      <td>1506.0</td>\n",
       "      <td>recuperación de músculos</td>\n",
       "      <td>[4]</td>\n",
       "      <td>['Beneficios personales y efectividad clínica']</td>\n",
       "      <td>4</td>\n",
       "      <td>4</td>\n",
       "      <td>4</td>\n",
       "    </tr>\n",
       "    <tr>\n",
       "      <th>296</th>\n",
       "      <td>1507.0</td>\n",
       "      <td>recuperación de articulaciones</td>\n",
       "      <td>[4]</td>\n",
       "      <td>['Beneficios personales y efectividad clínica']</td>\n",
       "      <td>4</td>\n",
       "      <td>4</td>\n",
       "      <td>4</td>\n",
       "    </tr>\n",
       "    <tr>\n",
       "      <th>297</th>\n",
       "      <td>1509.0</td>\n",
       "      <td>asequibilidad</td>\n",
       "      <td>[7]</td>\n",
       "      <td>['Accesibilidad y comodidad']</td>\n",
       "      <td>7</td>\n",
       "      <td>7</td>\n",
       "      <td>7</td>\n",
       "    </tr>\n",
       "    <tr>\n",
       "      <th>298</th>\n",
       "      <td>1512.0</td>\n",
       "      <td>método antiguo</td>\n",
       "      <td>[6]</td>\n",
       "      <td>['Tradicionalismo']</td>\n",
       "      <td>6</td>\n",
       "      <td>6</td>\n",
       "      <td>6</td>\n",
       "    </tr>\n",
       "    <tr>\n",
       "      <th>299</th>\n",
       "      <td>1513.0</td>\n",
       "      <td>recomendación familiar</td>\n",
       "      <td>[5]</td>\n",
       "      <td>['Testimonios y experiencias personales']</td>\n",
       "      <td>5</td>\n",
       "      <td>5</td>\n",
       "      <td>5</td>\n",
       "    </tr>\n",
       "  </tbody>\n",
       "</table>\n",
       "<p>301 rows × 7 columns</p>\n",
       "</div>"
      ],
      "text/plain": [
       "      index                            text categoria  \\\n",
       "0      15.0                   accesibilidad       [7]   \n",
       "1      23.0               buenos resultados       [4]   \n",
       "2      29.0          fundamentos anatómicos       [8]   \n",
       "3      30.0            resultados positivos       [4]   \n",
       "4      32.0     experiencia previa positiva       [5]   \n",
       "..      ...                             ...       ...   \n",
       "295  1506.0        recuperación de músculos       [4]   \n",
       "296  1507.0  recuperación de articulaciones       [4]   \n",
       "297  1509.0                   asequibilidad       [7]   \n",
       "298  1512.0                  método antiguo       [6]   \n",
       "299  1513.0          recomendación familiar       [5]   \n",
       "\n",
       "                                          categoria_  Modelo  Jose_Angelo  \\\n",
       "0                      ['Accesibilidad y comodidad']       7            7   \n",
       "1    ['Beneficios personales y efectividad clínica']       4            4   \n",
       "2       ['Credenciales científicas y profesionales']       8            8   \n",
       "3    ['Beneficios personales y efectividad clínica']       4            4   \n",
       "4          ['Testimonios y experiencias personales']       5            5   \n",
       "..                                               ...     ...          ...   \n",
       "295  ['Beneficios personales y efectividad clínica']       4            4   \n",
       "296  ['Beneficios personales y efectividad clínica']       4            4   \n",
       "297                    ['Accesibilidad y comodidad']       7            7   \n",
       "298                              ['Tradicionalismo']       6            6   \n",
       "299        ['Testimonios y experiencias personales']       5            5   \n",
       "\n",
       "    Modelo_v2  \n",
       "0           7  \n",
       "1           4  \n",
       "2           8  \n",
       "3           4  \n",
       "4           5  \n",
       "..        ...  \n",
       "295         4  \n",
       "296         4  \n",
       "297         7  \n",
       "298         6  \n",
       "299         5  \n",
       "\n",
       "[301 rows x 7 columns]"
      ]
     },
     "execution_count": 77,
     "metadata": {},
     "output_type": "execute_result"
    }
   ],
   "source": [
    "import ast\n",
    "eval_class_v2 = class_v2.merge(df[['text', 'Modelo', 'Jose_Angelo']], how='inner', left_on='text', right_on='text')\n",
    "eval_class_v2['Modelo_v2'] = eval_class_v2['categoria'].apply(lambda x: ast.literal_eval(x))\n",
    "eval_class_v2 = eval_class_v2.explode('Modelo_v2')\n",
    "eval_class_v2"
   ]
  },
  {
   "cell_type": "code",
   "execution_count": 78,
   "id": "c7f02be1",
   "metadata": {},
   "outputs": [
    {
     "data": {
      "image/png": "[encoded data removed]",
      "text/plain": [
       "<Figure size 1000x1000 with 2 Axes>"
      ]
     },
     "metadata": {},
     "output_type": "display_data"
    }
   ],
   "source": [
    "# Convert 'Modelo_v2' to integers\n",
    "\n",
    "df = eval_class_v2\n",
    "df['Modelo_v2'] = df['Modelo_v2'].astype(int)\n",
    "\n",
    "# Get sorted unique labels across both columns\n",
    "labels = sorted(set(df['Jose_Angelo'].unique()) | set(df['Modelo_v2'].unique()))\n",
    "\n",
    "# Compute the confusion matrix\n",
    "conf_matrix = confusion_matrix(df['Jose_Angelo'], df['Modelo_v2'], labels=labels)\n",
    "\n",
    "# Normalize the confusion matrix (row-wise)\n",
    "conf_matrix_normalized = conf_matrix.astype('float') / conf_matrix.sum(axis=1, keepdims=True)\n",
    "\n",
    "# Plot the normalized confusion matrix\n",
    "plt.figure(figsize=(10, 10))\n",
    "sns.heatmap(conf_matrix_normalized, annot=True, fmt='.2f', cmap='Blues',\n",
    "            xticklabels=labels, yticklabels=labels)\n",
    "plt.xlabel('Predicted Labels')\n",
    "plt.ylabel('True Labels')\n",
    "plt.title('Normalized Confusion Matrix Heatmap')\n",
    "plt.show()"
   ]
  },
  {
   "cell_type": "code",
   "execution_count": 79,
   "id": "7c198fed",
   "metadata": {},
   "outputs": [
    {
     "name": "stdout",
     "output_type": "stream",
     "text": [
      "Classification Report:\n",
      "\n",
      "              precision    recall  f1-score   support\n",
      "\n",
      "           1       0.81      0.85      0.83        34\n",
      "           2       0.70      0.88      0.78         8\n",
      "           3       0.77      0.83      0.80        12\n",
      "           4       0.87      0.92      0.90       140\n",
      "           5       1.00      0.70      0.82        30\n",
      "           6       0.72      0.93      0.81        14\n",
      "           7       0.88      0.88      0.88        16\n",
      "           8       1.00      0.59      0.74        22\n",
      "           9       0.91      0.91      0.91        11\n",
      "          10       0.13      0.14      0.14        14\n",
      "\n",
      "    accuracy                           0.82       301\n",
      "   macro avg       0.78      0.76      0.76       301\n",
      "weighted avg       0.84      0.82      0.82       301\n",
      "\n"
     ]
    }
   ],
   "source": [
    "from sklearn.metrics import classification_report\n",
    "\n",
    "# Print the full classification report\n",
    "report = classification_report(df['Jose_Angelo'], df['Modelo_v2'], labels=labels)\n",
    "print(\"Classification Report:\\n\")\n",
    "print(report)\n"
   ]
  },
  {
   "cell_type": "code",
   "execution_count": 80,
   "id": "7cb0743f",
   "metadata": {},
   "outputs": [
    {
     "data": {
      "text/plain": [
       "0.12292358803986711"
      ]
     },
     "execution_count": 80,
     "metadata": {},
     "output_type": "execute_result"
    }
   ],
   "source": [
    "len(df.query('Modelo == 10')) / len(df)"
   ]
  },
  {
   "cell_type": "code",
   "execution_count": null,
   "id": "67dfb06e",
   "metadata": {},
   "outputs": [],
   "source": []
  },
  {
   "cell_type": "code",
   "execution_count": 86,
   "id": "238a3864",
   "metadata": {},
   "outputs": [],
   "source": [
    "class_v2['categoria__'] = class_v2['categoria'].apply(lambda x: ast.literal_eval(x))\n",
    "class_v2 = class_v2.explode('categoria__')"
   ]
  },
  {
   "cell_type": "code",
   "execution_count": 88,
   "id": "b680c18c",
   "metadata": {},
   "outputs": [
    {
     "name": "stdout",
     "output_type": "stream",
     "text": [
      "112\n"
     ]
    },
    {
     "data": {
      "text/plain": [
       "0.07339449541284404"
      ]
     },
     "execution_count": 88,
     "metadata": {},
     "output_type": "execute_result"
    }
   ],
   "source": [
    "print(len(class_v2.query('categoria__ == 10')))\n",
    "len(class_v2.query('categoria__ == 10')) / len(class_v2)"
   ]
  },
  {
   "cell_type": "code",
   "execution_count": null,
   "id": "dddf90bd",
   "metadata": {},
   "outputs": [],
   "source": []
  }
 ],
 "metadata": {
  "kernelspec": {
   "display_name": "polviewnet",
   "language": "python",
   "name": "python3"
  },
  "language_info": {
   "codemirror_mode": {
    "name": "ipython",
    "version": 3
   },
   "file_extension": ".py",
   "mimetype": "text/x-python",
   "name": "python",
   "nbconvert_exporter": "python",
   "pygments_lexer": "ipython3",
   "version": "3.12.7"
  }
 },
 "nbformat": 4,
 "nbformat_minor": 5
}
